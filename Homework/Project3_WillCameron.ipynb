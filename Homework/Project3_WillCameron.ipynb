{
  "nbformat": 4,
  "nbformat_minor": 0,
  "metadata": {
    "colab": {
      "provenance": []
    },
    "kernelspec": {
      "name": "python3",
      "display_name": "Python 3"
    },
    "language_info": {
      "name": "python"
    }
  },
  "cells": [
    {
      "cell_type": "markdown",
      "source": [
        "For all the classes and methods in this assignment you will use the PyTorch library. You should use a double precision data type and the device is either \"cpu\" or \"cuda\"."
      ],
      "metadata": {
        "id": "xq3CLSPBg583"
      }
    },
    {
      "cell_type": "code",
      "execution_count": 237,
      "metadata": {
        "id": "n4WIPsrMgxiQ"
      },
      "outputs": [],
      "source": [
        "import torch"
      ]
    },
    {
      "cell_type": "code",
      "source": [
        "device = torch.device(\"cpu\")\n",
        "dtype = torch.float64"
      ],
      "metadata": {
        "id": "1KqiowebqrVQ"
      },
      "execution_count": 238,
      "outputs": []
    },
    {
      "cell_type": "markdown",
      "source": [
        "## Question 1\n",
        "\n",
        "Create your own PyTorch class that implements the method of SCAD regularization and variable selection (smoothly clipped absolute deviations) for linear models. Your development should be based on the following references:\n",
        "\n",
        "https://andrewcharlesjones.github.io/journal/scad.html\n",
        "\n",
        "https://www.jstor.org/stable/27640214?seq=1\n",
        "            \n",
        "Test your method on a real data set, and determine a variable selection based on features importance according to SCAD."
      ],
      "metadata": {
        "id": "LCovO5ODq5bm"
      }
    },
    {
      "cell_type": "code",
      "source": [
        "from sklearn.linear_model import LinearRegression\n",
        "from sklearn.model_selection import train_test_split as tts\n",
        "from sklearn.metrics import r2_score\n",
        "import pandas as pd\n",
        "import numpy as np\n",
        "import torch.nn as nn\n",
        "import torch.optim as optim"
      ],
      "metadata": {
        "id": "77hoQk6hoCFd"
      },
      "execution_count": 239,
      "outputs": []
    },
    {
      "cell_type": "code",
      "source": [
        "class SCAD(nn.Module):\n",
        "\n",
        "  def __init__(self, input_size, lambda_val = .5, a_val = .4):\n",
        "    super(SCAD, self).__init__()\n",
        "    self.input_size = input_size\n",
        "    self.lambda_val = lambda_val\n",
        "    self.a_val = a_val\n",
        "    self.linear = nn.Linear(input_size, 1, bias = False, device = device, dtype = dtype)\n",
        "\n",
        "  def forward(self, x):\n",
        "    return self.linear(x)\n",
        "\n",
        "  def loss(self, X, y, y_pred, coeffs):\n",
        "    xT_x = torch.mm(torch.transpose(X, 0, 1), X)\n",
        "    scad_deriv = self._scad_derivative(coeffs, self.lambda_val, self.a_val)\n",
        "    mse_loss = nn.MSELoss(reduction='mean')(torch.flatten(y_pred), torch.flatten(y))\n",
        "    return mse_loss + torch.norm(torch.matmul(torch.inverse(xT_x + torch.matmul(scad_deriv/(2*torch.abs(coeffs)),torch.eye(X.shape[1], dtype = dtype))),torch.matmul(torch.transpose(X, 0, 1), y)))\n",
        "\n",
        "\n",
        "  def fit(self, X, y, num_epochs = 100, learning_rate = .05, verbose = True):\n",
        "    optimizer = optim.Adam(self.parameters(), lr = learning_rate)\n",
        "\n",
        "    for epoch in range(num_epochs):\n",
        "      self.train()\n",
        "      optimizer.zero_grad()\n",
        "      coeffs = self.linear.weight[0]\n",
        "      y_pred = self(X)\n",
        "      loss = self.loss(X, y, y_pred, coeffs)\n",
        "      loss.backward()\n",
        "      optimizer.step()\n",
        "\n",
        "      if verbose:\n",
        "        print(f\"Epoch [{epoch + 1}/{num_epochs}], Loss: {loss.item()}\")\n",
        "\n",
        "  def get_coefficients(self,):\n",
        "    return self.linear.weight\n",
        "\n",
        "  def predict(self, X):\n",
        "    self.eval()\n",
        "    with torch.no_grad():\n",
        "      y_pred = self(X)\n",
        "    return y_pred\n",
        "\n",
        "  def _scad_penalty(self, beta_hat, lambda_val, a_val):\n",
        "    is_linear = (torch.abs(beta_hat) <= lambda_val)\n",
        "    is_quadratic = torch.logical_and(lambda_val < torch.abs(beta_hat), torch.abs(beta_hat) <= a_val * lambda_val)\n",
        "    is_constant = (a_val * lambda_val) < torch.abs(beta_hat)\n",
        "\n",
        "    linear_part = lambda_val * torch.abs(beta_hat) * is_linear\n",
        "    quadratic_part = (2 * a_val * lambda_val * torch.abs(beta_hat) - beta_hat**2 - lambda_val**2) / (2 * (a_val - 1)) * is_quadratic\n",
        "    constant_part = (lambda_val**2 * (a_val + 1)) / 2 * is_constant\n",
        "    return linear_part + quadratic_part + constant_part\n",
        "\n",
        "  def _scad_derivative(self, beta_hat, lambda_val, a_val):\n",
        "    return lambda_val * ((beta_hat <= lambda_val) + (a_val * lambda_val - beta_hat)*((a_val * lambda_val - beta_hat) > 0) / ((a_val - 1) * lambda_val) * (beta_hat > lambda_val))"
      ],
      "metadata": {
        "id": "gtkcoX7EdVcM"
      },
      "execution_count": 240,
      "outputs": []
    },
    {
      "cell_type": "code",
      "source": [
        "data = pd.read_csv('drive/MyDrive/Adv. App. Machine Learning/concrete.csv')\n",
        "data.head(2)"
      ],
      "metadata": {
        "colab": {
          "base_uri": "https://localhost:8080/",
          "height": 112
        },
        "id": "qRkoPXwJBJtp",
        "outputId": "021b60a1-09ad-4b9b-cf29-a4855c688a06"
      },
      "execution_count": 241,
      "outputs": [
        {
          "output_type": "execute_result",
          "data": {
            "text/plain": [
              "   cement  slag  ash  water  superplastic  coarseagg  fineagg  age  strength\n",
              "0   540.0   0.0  0.0  162.0           2.5     1040.0    676.0   28     79.99\n",
              "1   540.0   0.0  0.0  162.0           2.5     1055.0    676.0   28     61.89"
            ],
            "text/html": [
              "\n",
              "  <div id=\"df-478d5df0-261f-479c-88b3-b7be29d37e28\" class=\"colab-df-container\">\n",
              "    <div>\n",
              "<style scoped>\n",
              "    .dataframe tbody tr th:only-of-type {\n",
              "        vertical-align: middle;\n",
              "    }\n",
              "\n",
              "    .dataframe tbody tr th {\n",
              "        vertical-align: top;\n",
              "    }\n",
              "\n",
              "    .dataframe thead th {\n",
              "        text-align: right;\n",
              "    }\n",
              "</style>\n",
              "<table border=\"1\" class=\"dataframe\">\n",
              "  <thead>\n",
              "    <tr style=\"text-align: right;\">\n",
              "      <th></th>\n",
              "      <th>cement</th>\n",
              "      <th>slag</th>\n",
              "      <th>ash</th>\n",
              "      <th>water</th>\n",
              "      <th>superplastic</th>\n",
              "      <th>coarseagg</th>\n",
              "      <th>fineagg</th>\n",
              "      <th>age</th>\n",
              "      <th>strength</th>\n",
              "    </tr>\n",
              "  </thead>\n",
              "  <tbody>\n",
              "    <tr>\n",
              "      <th>0</th>\n",
              "      <td>540.0</td>\n",
              "      <td>0.0</td>\n",
              "      <td>0.0</td>\n",
              "      <td>162.0</td>\n",
              "      <td>2.5</td>\n",
              "      <td>1040.0</td>\n",
              "      <td>676.0</td>\n",
              "      <td>28</td>\n",
              "      <td>79.99</td>\n",
              "    </tr>\n",
              "    <tr>\n",
              "      <th>1</th>\n",
              "      <td>540.0</td>\n",
              "      <td>0.0</td>\n",
              "      <td>0.0</td>\n",
              "      <td>162.0</td>\n",
              "      <td>2.5</td>\n",
              "      <td>1055.0</td>\n",
              "      <td>676.0</td>\n",
              "      <td>28</td>\n",
              "      <td>61.89</td>\n",
              "    </tr>\n",
              "  </tbody>\n",
              "</table>\n",
              "</div>\n",
              "    <div class=\"colab-df-buttons\">\n",
              "\n",
              "  <div class=\"colab-df-container\">\n",
              "    <button class=\"colab-df-convert\" onclick=\"convertToInteractive('df-478d5df0-261f-479c-88b3-b7be29d37e28')\"\n",
              "            title=\"Convert this dataframe to an interactive table.\"\n",
              "            style=\"display:none;\">\n",
              "\n",
              "  <svg xmlns=\"http://www.w3.org/2000/svg\" height=\"24px\" viewBox=\"0 -960 960 960\">\n",
              "    <path d=\"M120-120v-720h720v720H120Zm60-500h600v-160H180v160Zm220 220h160v-160H400v160Zm0 220h160v-160H400v160ZM180-400h160v-160H180v160Zm440 0h160v-160H620v160ZM180-180h160v-160H180v160Zm440 0h160v-160H620v160Z\"/>\n",
              "  </svg>\n",
              "    </button>\n",
              "\n",
              "  <style>\n",
              "    .colab-df-container {\n",
              "      display:flex;\n",
              "      gap: 12px;\n",
              "    }\n",
              "\n",
              "    .colab-df-convert {\n",
              "      background-color: #E8F0FE;\n",
              "      border: none;\n",
              "      border-radius: 50%;\n",
              "      cursor: pointer;\n",
              "      display: none;\n",
              "      fill: #1967D2;\n",
              "      height: 32px;\n",
              "      padding: 0 0 0 0;\n",
              "      width: 32px;\n",
              "    }\n",
              "\n",
              "    .colab-df-convert:hover {\n",
              "      background-color: #E2EBFA;\n",
              "      box-shadow: 0px 1px 2px rgba(60, 64, 67, 0.3), 0px 1px 3px 1px rgba(60, 64, 67, 0.15);\n",
              "      fill: #174EA6;\n",
              "    }\n",
              "\n",
              "    .colab-df-buttons div {\n",
              "      margin-bottom: 4px;\n",
              "    }\n",
              "\n",
              "    [theme=dark] .colab-df-convert {\n",
              "      background-color: #3B4455;\n",
              "      fill: #D2E3FC;\n",
              "    }\n",
              "\n",
              "    [theme=dark] .colab-df-convert:hover {\n",
              "      background-color: #434B5C;\n",
              "      box-shadow: 0px 1px 3px 1px rgba(0, 0, 0, 0.15);\n",
              "      filter: drop-shadow(0px 1px 2px rgba(0, 0, 0, 0.3));\n",
              "      fill: #FFFFFF;\n",
              "    }\n",
              "  </style>\n",
              "\n",
              "    <script>\n",
              "      const buttonEl =\n",
              "        document.querySelector('#df-478d5df0-261f-479c-88b3-b7be29d37e28 button.colab-df-convert');\n",
              "      buttonEl.style.display =\n",
              "        google.colab.kernel.accessAllowed ? 'block' : 'none';\n",
              "\n",
              "      async function convertToInteractive(key) {\n",
              "        const element = document.querySelector('#df-478d5df0-261f-479c-88b3-b7be29d37e28');\n",
              "        const dataTable =\n",
              "          await google.colab.kernel.invokeFunction('convertToInteractive',\n",
              "                                                    [key], {});\n",
              "        if (!dataTable) return;\n",
              "\n",
              "        const docLinkHtml = 'Like what you see? Visit the ' +\n",
              "          '<a target=\"_blank\" href=https://colab.research.google.com/notebooks/data_table.ipynb>data table notebook</a>'\n",
              "          + ' to learn more about interactive tables.';\n",
              "        element.innerHTML = '';\n",
              "        dataTable['output_type'] = 'display_data';\n",
              "        await google.colab.output.renderOutput(dataTable, element);\n",
              "        const docLink = document.createElement('div');\n",
              "        docLink.innerHTML = docLinkHtml;\n",
              "        element.appendChild(docLink);\n",
              "      }\n",
              "    </script>\n",
              "  </div>\n",
              "\n",
              "\n",
              "<div id=\"df-c490ed10-d7f9-4e44-8afd-a9e1f2098516\">\n",
              "  <button class=\"colab-df-quickchart\" onclick=\"quickchart('df-c490ed10-d7f9-4e44-8afd-a9e1f2098516')\"\n",
              "            title=\"Suggest charts\"\n",
              "            style=\"display:none;\">\n",
              "\n",
              "<svg xmlns=\"http://www.w3.org/2000/svg\" height=\"24px\"viewBox=\"0 0 24 24\"\n",
              "     width=\"24px\">\n",
              "    <g>\n",
              "        <path d=\"M19 3H5c-1.1 0-2 .9-2 2v14c0 1.1.9 2 2 2h14c1.1 0 2-.9 2-2V5c0-1.1-.9-2-2-2zM9 17H7v-7h2v7zm4 0h-2V7h2v10zm4 0h-2v-4h2v4z\"/>\n",
              "    </g>\n",
              "</svg>\n",
              "  </button>\n",
              "\n",
              "<style>\n",
              "  .colab-df-quickchart {\n",
              "      --bg-color: #E8F0FE;\n",
              "      --fill-color: #1967D2;\n",
              "      --hover-bg-color: #E2EBFA;\n",
              "      --hover-fill-color: #174EA6;\n",
              "      --disabled-fill-color: #AAA;\n",
              "      --disabled-bg-color: #DDD;\n",
              "  }\n",
              "\n",
              "  [theme=dark] .colab-df-quickchart {\n",
              "      --bg-color: #3B4455;\n",
              "      --fill-color: #D2E3FC;\n",
              "      --hover-bg-color: #434B5C;\n",
              "      --hover-fill-color: #FFFFFF;\n",
              "      --disabled-bg-color: #3B4455;\n",
              "      --disabled-fill-color: #666;\n",
              "  }\n",
              "\n",
              "  .colab-df-quickchart {\n",
              "    background-color: var(--bg-color);\n",
              "    border: none;\n",
              "    border-radius: 50%;\n",
              "    cursor: pointer;\n",
              "    display: none;\n",
              "    fill: var(--fill-color);\n",
              "    height: 32px;\n",
              "    padding: 0;\n",
              "    width: 32px;\n",
              "  }\n",
              "\n",
              "  .colab-df-quickchart:hover {\n",
              "    background-color: var(--hover-bg-color);\n",
              "    box-shadow: 0 1px 2px rgba(60, 64, 67, 0.3), 0 1px 3px 1px rgba(60, 64, 67, 0.15);\n",
              "    fill: var(--button-hover-fill-color);\n",
              "  }\n",
              "\n",
              "  .colab-df-quickchart-complete:disabled,\n",
              "  .colab-df-quickchart-complete:disabled:hover {\n",
              "    background-color: var(--disabled-bg-color);\n",
              "    fill: var(--disabled-fill-color);\n",
              "    box-shadow: none;\n",
              "  }\n",
              "\n",
              "  .colab-df-spinner {\n",
              "    border: 2px solid var(--fill-color);\n",
              "    border-color: transparent;\n",
              "    border-bottom-color: var(--fill-color);\n",
              "    animation:\n",
              "      spin 1s steps(1) infinite;\n",
              "  }\n",
              "\n",
              "  @keyframes spin {\n",
              "    0% {\n",
              "      border-color: transparent;\n",
              "      border-bottom-color: var(--fill-color);\n",
              "      border-left-color: var(--fill-color);\n",
              "    }\n",
              "    20% {\n",
              "      border-color: transparent;\n",
              "      border-left-color: var(--fill-color);\n",
              "      border-top-color: var(--fill-color);\n",
              "    }\n",
              "    30% {\n",
              "      border-color: transparent;\n",
              "      border-left-color: var(--fill-color);\n",
              "      border-top-color: var(--fill-color);\n",
              "      border-right-color: var(--fill-color);\n",
              "    }\n",
              "    40% {\n",
              "      border-color: transparent;\n",
              "      border-right-color: var(--fill-color);\n",
              "      border-top-color: var(--fill-color);\n",
              "    }\n",
              "    60% {\n",
              "      border-color: transparent;\n",
              "      border-right-color: var(--fill-color);\n",
              "    }\n",
              "    80% {\n",
              "      border-color: transparent;\n",
              "      border-right-color: var(--fill-color);\n",
              "      border-bottom-color: var(--fill-color);\n",
              "    }\n",
              "    90% {\n",
              "      border-color: transparent;\n",
              "      border-bottom-color: var(--fill-color);\n",
              "    }\n",
              "  }\n",
              "</style>\n",
              "\n",
              "  <script>\n",
              "    async function quickchart(key) {\n",
              "      const quickchartButtonEl =\n",
              "        document.querySelector('#' + key + ' button');\n",
              "      quickchartButtonEl.disabled = true;  // To prevent multiple clicks.\n",
              "      quickchartButtonEl.classList.add('colab-df-spinner');\n",
              "      try {\n",
              "        const charts = await google.colab.kernel.invokeFunction(\n",
              "            'suggestCharts', [key], {});\n",
              "      } catch (error) {\n",
              "        console.error('Error during call to suggestCharts:', error);\n",
              "      }\n",
              "      quickchartButtonEl.classList.remove('colab-df-spinner');\n",
              "      quickchartButtonEl.classList.add('colab-df-quickchart-complete');\n",
              "    }\n",
              "    (() => {\n",
              "      let quickchartButtonEl =\n",
              "        document.querySelector('#df-c490ed10-d7f9-4e44-8afd-a9e1f2098516 button');\n",
              "      quickchartButtonEl.style.display =\n",
              "        google.colab.kernel.accessAllowed ? 'block' : 'none';\n",
              "    })();\n",
              "  </script>\n",
              "</div>\n",
              "\n",
              "    </div>\n",
              "  </div>\n"
            ],
            "application/vnd.google.colaboratory.intrinsic+json": {
              "type": "dataframe",
              "variable_name": "data",
              "summary": "{\n  \"name\": \"data\",\n  \"rows\": 1030,\n  \"fields\": [\n    {\n      \"column\": \"cement\",\n      \"properties\": {\n        \"dtype\": \"number\",\n        \"std\": 104.50636449481532,\n        \"min\": 102.0,\n        \"max\": 540.0,\n        \"num_unique_values\": 278,\n        \"samples\": [\n          337.9,\n          290.2,\n          262.0\n        ],\n        \"semantic_type\": \"\",\n        \"description\": \"\"\n      }\n    },\n    {\n      \"column\": \"slag\",\n      \"properties\": {\n        \"dtype\": \"number\",\n        \"std\": 86.27934174810584,\n        \"min\": 0.0,\n        \"max\": 359.4,\n        \"num_unique_values\": 185,\n        \"samples\": [\n          94.7,\n          119.0,\n          136.3\n        ],\n        \"semantic_type\": \"\",\n        \"description\": \"\"\n      }\n    },\n    {\n      \"column\": \"ash\",\n      \"properties\": {\n        \"dtype\": \"number\",\n        \"std\": 63.99700415268765,\n        \"min\": 0.0,\n        \"max\": 200.1,\n        \"num_unique_values\": 156,\n        \"samples\": [\n          98.0,\n          142.0,\n          195.0\n        ],\n        \"semantic_type\": \"\",\n        \"description\": \"\"\n      }\n    },\n    {\n      \"column\": \"water\",\n      \"properties\": {\n        \"dtype\": \"number\",\n        \"std\": 21.35421856503247,\n        \"min\": 121.8,\n        \"max\": 247.0,\n        \"num_unique_values\": 195,\n        \"samples\": [\n          195.4,\n          183.8,\n          127.3\n        ],\n        \"semantic_type\": \"\",\n        \"description\": \"\"\n      }\n    },\n    {\n      \"column\": \"superplastic\",\n      \"properties\": {\n        \"dtype\": \"number\",\n        \"std\": 5.97384139248552,\n        \"min\": 0.0,\n        \"max\": 32.2,\n        \"num_unique_values\": 111,\n        \"samples\": [\n          15.0,\n          28.2,\n          16.5\n        ],\n        \"semantic_type\": \"\",\n        \"description\": \"\"\n      }\n    },\n    {\n      \"column\": \"coarseagg\",\n      \"properties\": {\n        \"dtype\": \"number\",\n        \"std\": 77.75395396672077,\n        \"min\": 801.0,\n        \"max\": 1145.0,\n        \"num_unique_values\": 284,\n        \"samples\": [\n          852.1,\n          913.9,\n          914.0\n        ],\n        \"semantic_type\": \"\",\n        \"description\": \"\"\n      }\n    },\n    {\n      \"column\": \"fineagg\",\n      \"properties\": {\n        \"dtype\": \"number\",\n        \"std\": 80.17598014240437,\n        \"min\": 594.0,\n        \"max\": 992.6,\n        \"num_unique_values\": 302,\n        \"samples\": [\n          710.0,\n          695.4,\n          769.3\n        ],\n        \"semantic_type\": \"\",\n        \"description\": \"\"\n      }\n    },\n    {\n      \"column\": \"age\",\n      \"properties\": {\n        \"dtype\": \"number\",\n        \"std\": 63,\n        \"min\": 1,\n        \"max\": 365,\n        \"num_unique_values\": 14,\n        \"samples\": [\n          91,\n          100,\n          28\n        ],\n        \"semantic_type\": \"\",\n        \"description\": \"\"\n      }\n    },\n    {\n      \"column\": \"strength\",\n      \"properties\": {\n        \"dtype\": \"number\",\n        \"std\": 16.705741961912512,\n        \"min\": 2.33,\n        \"max\": 82.6,\n        \"num_unique_values\": 845,\n        \"samples\": [\n          41.68,\n          39.59,\n          2.33\n        ],\n        \"semantic_type\": \"\",\n        \"description\": \"\"\n      }\n    }\n  ]\n}"
            }
          },
          "metadata": {},
          "execution_count": 241
        }
      ]
    },
    {
      "cell_type": "code",
      "source": [
        "x = torch.tensor(data.drop(columns=['strength']).values)\n",
        "y = torch.tensor(data['strength'].values)"
      ],
      "metadata": {
        "id": "e3X0K4tsBjIX"
      },
      "execution_count": 242,
      "outputs": []
    },
    {
      "cell_type": "code",
      "source": [
        "scad = SCAD(input_size = x.shape[1])\n",
        "scad.fit(x, y, num_epochs = 100, verbose = False)"
      ],
      "metadata": {
        "id": "FPOeCA3oBqbm"
      },
      "execution_count": 243,
      "outputs": []
    },
    {
      "cell_type": "code",
      "source": [
        "torch.set_printoptions(sci_mode = False)\n",
        "scad.get_coefficients()"
      ],
      "metadata": {
        "colab": {
          "base_uri": "https://localhost:8080/"
        },
        "id": "mCm5KbLZlzeP",
        "outputId": "cd7f77c5-2bdc-4a29-fb4a-5263fa77d907"
      },
      "execution_count": 244,
      "outputs": [
        {
          "output_type": "execute_result",
          "data": {
            "text/plain": [
              "Parameter containing:\n",
              "tensor([[ 0.0968,  0.0678,  0.0556,  0.0803,  0.3729, -0.0732,  0.0650,  0.0947]],\n",
              "       dtype=torch.float64, requires_grad=True)"
            ]
          },
          "metadata": {},
          "execution_count": 244
        }
      ]
    },
    {
      "cell_type": "code",
      "source": [
        "x_scad = data.drop(columns=['strength', 'cement', 'slag', 'coarseagg', 'fineagg', 'age']).values"
      ],
      "metadata": {
        "id": "Qkv87Qd-noIE"
      },
      "execution_count": 245,
      "outputs": []
    },
    {
      "cell_type": "code",
      "source": [
        "xscad_train, xscad_test, yscad_train, yscad_test = tts(x_scad, y, test_size = .2, random_state = 4)\n",
        "x_train, x_test, y_train, y_test = tts(x, y, test_size = .2, random_state = 4)"
      ],
      "metadata": {
        "id": "Y-H_St44oKI0"
      },
      "execution_count": 246,
      "outputs": []
    },
    {
      "cell_type": "code",
      "source": [
        "model = LinearRegression()\n",
        "model.fit(x_train, y_train)\n",
        "scad_pred = model.predict(x_test)\n",
        "print(f\"R^2: {model.score(x_test, y_test)}\")\n",
        "\n",
        "scad = SCAD(input_size = x.shape[1])\n",
        "scad.fit(x_train, y_train, num_epochs = 500, verbose = False)\n",
        "scad_pred = scad.predict(x_test)\n",
        "print(f\"SCAD R^2: {r2_score(y_test, scad_pred)}\")"
      ],
      "metadata": {
        "colab": {
          "base_uri": "https://localhost:8080/"
        },
        "id": "zSgCYooJnJTo",
        "outputId": "b4a9d2ea-ed68-434d-eed0-989b33a781fb"
      },
      "execution_count": 247,
      "outputs": [
        {
          "output_type": "stream",
          "name": "stdout",
          "text": [
            "R^2: 0.5543960836555616\n",
            "SCAD R^2: 0.5567211375252696\n"
          ]
        }
      ]
    },
    {
      "cell_type": "markdown",
      "source": [
        "Slightly better!"
      ],
      "metadata": {
        "id": "bNZKs625vC-e"
      }
    },
    {
      "cell_type": "markdown",
      "source": [
        "## Question 2\n",
        "\n",
        "Based on the simulation design explained in class, generate 500 data sets where the input features have a strong correlation structure (you may consider a 0.9) and apply ElasticNet, SqrtLasso and SCAD to check which method produces the best approximation of an ideal solution, such as a \"betastar\" you design with a sparsity pattern."
      ],
      "metadata": {
        "id": "3Wt4goP7swpu"
      }
    },
    {
      "cell_type": "code",
      "source": [
        "from scipy.linalg import toeplitz\n",
        "from sklearn.linear_model import ElasticNet"
      ],
      "metadata": {
        "id": "lCHLyd_rwDvN"
      },
      "execution_count": 248,
      "outputs": []
    },
    {
      "cell_type": "code",
      "source": [
        "class SqrtLasso(nn.Module):\n",
        "    def __init__(self, input_size, alpha=0.1):\n",
        "        \"\"\"\n",
        "        Initialize the  regression model.\n",
        "\n",
        "\n",
        "        \"\"\"\n",
        "        super(SqrtLasso, self).__init__()\n",
        "        self.input_size = input_size\n",
        "        self.alpha = alpha\n",
        "\n",
        "\n",
        "        # Define the linear regression layer\n",
        "        self.linear = nn.Linear(input_size, 1,bias=False,device=device,dtype=dtype)\n",
        "\n",
        "    def forward(self, x):\n",
        "        \"\"\"\n",
        "        Forward pass of the model.\n",
        "\n",
        "        Args:\n",
        "            x (Tensor): Input data with shape (batch_size, input_size).\n",
        "\n",
        "        Returns:\n",
        "            Tensor: Predicted values with shape (batch_size, 1).\n",
        "\n",
        "        \"\"\"\n",
        "        return self.linear(x)\n",
        "\n",
        "    def loss(self, y_pred, y_true):\n",
        "        \"\"\"\n",
        "        Compute the loss function.\n",
        "\n",
        "        Args:\n",
        "            y_pred (Tensor): Predicted values with shape (batch_size, 1).\n",
        "            y_true (Tensor): True target values with shape (batch_size, 1).\n",
        "\n",
        "        Returns:\n",
        "            Tensor: The loss.\n",
        "\n",
        "        \"\"\"\n",
        "        mse_loss = nn.MSELoss(reduction='mean')(y_pred, y_true)\n",
        "        l1_reg = torch.norm(self.linear.weight, p=1,dtype=dtype)\n",
        "        # l2_reg = torch.norm(self.linear.weight, p=2,dtype=torch.float64)\n",
        "\n",
        "        loss = torch.sqrt(mse_loss) + self.alpha * (l1_reg)\n",
        "        return torch.flatten(loss)\n",
        "\n",
        "    def fit(self, X, y, num_epochs=500, learning_rate=0.01):\n",
        "        \"\"\"\n",
        "        Fit the model to the training data.\n",
        "\n",
        "        Args:\n",
        "            X (Tensor): Input data with shape (num_samples, input_size).\n",
        "            y (Tensor): Target values with shape (num_samples, 1).\n",
        "            num_epochs (int): Number of training epochs.\n",
        "            learning_rate (float): Learning rate for optimization.\n",
        "\n",
        "        \"\"\"\n",
        "        optimizer = optim.Adam(self.parameters(), lr=learning_rate)\n",
        "\n",
        "        for epoch in range(num_epochs):\n",
        "            self.train()\n",
        "            optimizer.zero_grad()\n",
        "            y_pred = self(X)\n",
        "            loss = self.loss(y_pred, y)\n",
        "            loss.backward()\n",
        "            optimizer.step()\n",
        "\n",
        "            if (epoch + 1) % 100 == 0:\n",
        "                print(f\"Epoch [{epoch + 1}/{num_epochs}], Loss: {loss.item()}\")\n",
        "\n",
        "    def predict(self, X):\n",
        "        \"\"\"\n",
        "        Predict target values for input data.\n",
        "\n",
        "        Args:\n",
        "            X (Tensor): Input data with shape (num_samples, input_size).\n",
        "\n",
        "        Returns:\n",
        "            Tensor: Predicted values with shape (num_samples, 1).\n",
        "\n",
        "        \"\"\"\n",
        "        self.eval()\n",
        "        with torch.no_grad():\n",
        "            y_pred = self(X)\n",
        "        return y_pred\n",
        "    def get_coefficients(self):\n",
        "        \"\"\"\n",
        "        Get the coefficients (weights) of the linear regression layer.\n",
        "\n",
        "        Returns:\n",
        "            Tensor: Coefficients with shape (output_size, input_size).\n",
        "\n",
        "        \"\"\"\n",
        "        return self.linear.weight"
      ],
      "metadata": {
        "id": "-l_vDsVwx_rA"
      },
      "execution_count": 249,
      "outputs": []
    },
    {
      "cell_type": "code",
      "source": [
        "# we want to define a function for generating x with a prescribed number of obsvervations, features and Toeplitz correlation structure.\n",
        "def make_correlated_features(num_samples,p,rho):\n",
        "  vcor = []\n",
        "  for i in range(p):\n",
        "    vcor.append(rho**i)\n",
        "  r = toeplitz(vcor)\n",
        "  mu = np.repeat(0,p)\n",
        "  x = np.random.multivariate_normal(mu, r, size=num_samples)\n",
        "  return x"
      ],
      "metadata": {
        "id": "tfmypPIzszsV"
      },
      "execution_count": 250,
      "outputs": []
    },
    {
      "cell_type": "code",
      "source": [
        "rho = 0.9\n",
        "p = 200\n",
        "n = 500\n",
        "\n",
        "x = make_correlated_features(n,p,rho)"
      ],
      "metadata": {
        "id": "0BZMqri3s0Uk"
      },
      "execution_count": 251,
      "outputs": []
    },
    {
      "cell_type": "code",
      "source": [
        "beta = np.array([4,1,2,0,1,0,0,3,0,2])\n",
        "beta = beta.reshape(-1,1)\n",
        "betastar = np.concatenate([beta,np.repeat(0,p-len(beta)).reshape(-1,1)],axis=0)"
      ],
      "metadata": {
        "id": "ZsrDjrZvwoQA"
      },
      "execution_count": 252,
      "outputs": []
    },
    {
      "cell_type": "code",
      "source": [
        "y = x@betastar + 2*np.random.normal(size=(n,1))"
      ],
      "metadata": {
        "id": "bxMQPrgtxEq7"
      },
      "execution_count": 253,
      "outputs": []
    },
    {
      "cell_type": "code",
      "source": [
        "y.shape, x.shape"
      ],
      "metadata": {
        "colab": {
          "base_uri": "https://localhost:8080/"
        },
        "id": "BFp0Ut3Cz2bt",
        "outputId": "6ab50db9-f998-46f0-d308-37541a8adc8a"
      },
      "execution_count": 254,
      "outputs": [
        {
          "output_type": "execute_result",
          "data": {
            "text/plain": [
              "((500, 1), (500, 200))"
            ]
          },
          "metadata": {},
          "execution_count": 254
        }
      ]
    },
    {
      "cell_type": "code",
      "source": [
        "x = torch.tensor(x, device = device)\n",
        "y = torch.tensor(y, device = device)"
      ],
      "metadata": {
        "id": "8_RM6YWhxNGy"
      },
      "execution_count": 255,
      "outputs": []
    },
    {
      "cell_type": "code",
      "source": [
        "elastic = ElasticNet()\n",
        "elastic.fit(x,y)\n",
        "print(f\"ElasticNet Coefficients: {elastic.coef_}\")\n",
        "\n",
        "sqrtlasso = SqrtLasso(input_size = x.shape[1])\n",
        "sqrtlasso.fit(x,y)\n",
        "sqrt_coeff = sqrtlasso.get_coefficients()\n",
        "print(f\"SqrtLasso Coefficients: {sqrt_coeff}\")\n",
        "\n",
        "scad = SCAD(input_size = x.shape[1])\n",
        "scad.fit(x, y, num_epochs = 500, verbose = False)\n",
        "print(f\"SCAD Coefficients: {scad.get_coefficients()}\")"
      ],
      "metadata": {
        "colab": {
          "base_uri": "https://localhost:8080/"
        },
        "id": "uSzGMESJxPKP",
        "outputId": "34c6ad94-3cce-41f8-8e4f-5483845e676d"
      },
      "execution_count": 256,
      "outputs": [
        {
          "output_type": "stream",
          "name": "stdout",
          "text": [
            "ElasticNet Coefficients: [ 1.98884217  1.64770351  1.33194919  0.93181883  0.84064111  0.47513789\n",
            "  0.6091949   1.01851896  0.84648865  0.86630733  0.44757007  0.27682252\n",
            "  0.07205539  0.0282199   0.          0.          0.          0.\n",
            "  0.          0.          0.          0.         -0.         -0.\n",
            " -0.          0.          0.          0.          0.          0.\n",
            "  0.          0.          0.          0.          0.          0.\n",
            "  0.          0.          0.          0.          0.          0.\n",
            "  0.          0.          0.          0.          0.          0.\n",
            "  0.          0.          0.          0.          0.          0.\n",
            "  0.          0.          0.          0.         -0.         -0.\n",
            " -0.         -0.         -0.          0.         -0.         -0.\n",
            " -0.         -0.         -0.         -0.         -0.         -0.\n",
            " -0.          0.          0.          0.          0.          0.\n",
            "  0.          0.          0.         -0.         -0.         -0.\n",
            " -0.         -0.         -0.         -0.         -0.         -0.\n",
            " -0.         -0.         -0.         -0.         -0.         -0.\n",
            " -0.         -0.         -0.         -0.         -0.          0.\n",
            "  0.          0.          0.          0.          0.          0.\n",
            " -0.         -0.         -0.         -0.         -0.         -0.\n",
            " -0.         -0.         -0.         -0.         -0.          0.\n",
            "  0.          0.          0.          0.          0.          0.\n",
            "  0.          0.          0.          0.          0.          0.\n",
            "  0.          0.          0.          0.          0.          0.\n",
            "  0.          0.          0.          0.          0.          0.\n",
            "  0.          0.          0.          0.          0.          0.\n",
            "  0.          0.          0.          0.          0.         -0.\n",
            "  0.          0.          0.         -0.          0.          0.\n",
            " -0.          0.          0.         -0.          0.          0.\n",
            "  0.          0.          0.          0.          0.         -0.\n",
            " -0.         -0.         -0.         -0.         -0.         -0.\n",
            " -0.         -0.         -0.         -0.         -0.         -0.\n",
            " -0.         -0.         -0.          0.          0.          0.\n",
            "  0.         -0.         -0.         -0.         -0.         -0.\n",
            " -0.         -0.        ]\n",
            "Epoch [100/500], Loss: 4.9675500850769225\n",
            "Epoch [200/500], Loss: 3.9140723409713143\n",
            "Epoch [300/500], Loss: 3.654476429269824\n",
            "Epoch [400/500], Loss: 3.5325630624855853\n",
            "Epoch [500/500], Loss: 3.4752795575639053\n",
            "SqrtLasso Coefficients: Parameter containing:\n",
            "tensor([[     2.7173,      2.1405,      1.6076,      0.7514,      0.7118,\n",
            "              0.0350,      0.3544,      1.4170,      1.0041,      1.4396,\n",
            "              0.3544,      0.1305,      0.0017,      0.0048,      0.0050,\n",
            "              0.0010,      0.0011,      0.0006,      0.0056,      0.0018,\n",
            "              0.0017,     -0.0001,     -0.0014,     -0.0070,     -0.0015,\n",
            "              0.0036,     -0.0004,     -0.0004,     -0.0009,      0.0028,\n",
            "              0.0047,      0.0043,     -0.0008,      0.0024,      0.0019,\n",
            "              0.0065,      0.0047,     -0.0013,      0.0018,      0.0021,\n",
            "              0.0006,      0.0052,      0.0014,      0.0014,      0.0006,\n",
            "              0.0034,     -0.0007,      0.0031,     -0.0017,      0.0001,\n",
            "              0.0011,      0.0013,     -0.0001,      0.0004,      0.0080,\n",
            "              0.0032,     -0.0004,     -0.0018,     -0.0012,     -0.0023,\n",
            "              0.0011,     -0.0010,     -0.0002,      0.0004,     -0.0027,\n",
            "             -0.0007,     -0.0003,      0.0006,     -0.0028,     -0.0030,\n",
            "             -0.0012,     -0.0017,     -0.0014,     -0.0010,      0.0001,\n",
            "             -0.0040,      0.0023,      0.0061,      0.0024,      0.0005,\n",
            "              0.0002,      0.0001,     -0.0033,     -0.0031,     -0.0018,\n",
            "             -0.0055,     -0.0003,     -0.0015,      0.0019,     -0.0025,\n",
            "             -0.0012,     -0.0002,     -0.0008,     -0.0066,     -0.0012,\n",
            "              0.0015,      0.0004,     -0.0025,     -0.0012,      0.0009,\n",
            "             -0.0014,     -0.0009,      0.0026,     -0.0002,     -0.0001,\n",
            "              0.0022,     -0.0005,     -0.0008,      0.0015,      0.0019,\n",
            "             -0.0012,      0.0004,     -0.0014,      0.0021,     -0.0037,\n",
            "             -0.0004,     -0.0026,     -0.0030,     -0.0014,      0.0011,\n",
            "              0.0020,      0.0006,     -0.0004,     -0.0010,     -0.0007,\n",
            "              0.0013,      0.0044,      0.0001,      0.0006,      0.0008,\n",
            "              0.0001,      0.0017,     -0.0001,      0.0003,      0.0008,\n",
            "             -0.0005,      0.0017,      0.0009,     -0.0003,      0.0002,\n",
            "              0.0036,      0.0026,      0.0044,      0.0003,      0.0001,\n",
            "              0.0000,      0.0035,      0.0130,      0.0016,      0.0003,\n",
            "              0.0021,      0.0033,      0.0009,      0.0086,      0.0002,\n",
            "              0.0016,      0.0014,      0.0017,      0.0013,      0.0023,\n",
            "             -0.0012,     -0.0041,     -0.0005,     -0.0001,     -0.0009,\n",
            "              0.0004,     -0.0018,     -0.0020,     -0.0004,      0.0001,\n",
            "              0.0002,      0.0021,     -0.0004,      0.0011,     -0.0014,\n",
            "             -0.0003,      0.0000,     -0.0019,     -0.0019,     -0.0019,\n",
            "             -0.0041,     -0.0253,     -0.0040,     -0.0022,      0.0003,\n",
            "              0.0006,      0.0016,      0.0016,     -0.0028,      0.0024,\n",
            "              0.0009,      0.0040,      0.0024,     -0.0000,     -0.0009,\n",
            "              0.0034,     -0.0006,     -0.0019,      0.0040,      0.0007]],\n",
            "       dtype=torch.float64, requires_grad=True)\n",
            "SCAD Coefficients: Parameter containing:\n",
            "tensor([[ 0.7588,  4.1166,  1.6196,  0.1842,  0.3401,  1.1143,  1.2664, -0.5616,\n",
            "          1.2423,  0.9422,  1.0445,  0.9679,  0.9199, -0.3393,  0.8431, -0.9408,\n",
            "         -0.6517, -0.6193,  0.9635,  1.1072, -0.8364, -1.0805, -1.0515, -0.5038,\n",
            "          1.2054,  1.1497, -0.9353, -0.5165,  0.9621, -0.9484, -0.3775, -1.0740,\n",
            "          0.8461,  1.1566,  0.4848, -1.2061,  0.8986, -0.7798, -0.8651,  1.0262,\n",
            "          1.0029,  0.6033, -0.8273,  0.5157,  0.1150,  1.0357, -1.4929,  1.1530,\n",
            "          0.6172,  0.9720,  0.3986,  0.6735, -1.2072,  0.6773, -1.7421,  1.1162,\n",
            "         -0.8781, -1.2327,  0.8798, -0.9536,  0.6181,  1.1850,  0.8411, -0.6066,\n",
            "         -1.1929, -0.8468,  0.9407,  0.9771,  0.6013, -0.6508, -1.1441, -1.1895,\n",
            "          0.6738, -0.0475,  0.9149, -0.8416,  1.0850,  0.7460,  0.2826, -1.6596,\n",
            "          0.6530,  1.0537,  0.6134, -1.0282, -0.4754,  0.9068, -1.1485,  0.8241,\n",
            "         -0.5354, -1.0028,  1.1077, -1.0894, -0.6288, -1.2413,  1.2113,  0.6306,\n",
            "         -0.9250,  1.2403,  0.6820, -1.2072,  0.9769, -0.5128,  0.6075, -0.0478,\n",
            "         -1.0605,  0.9496,  0.6378,  0.6767, -1.0654, -0.1672, -1.3421, -1.3838,\n",
            "          1.6212,  0.6215,  0.8984, -0.7798, -0.2648, -0.5106, -1.2000,  4.2231,\n",
            "         -1.0298, -0.8331, -1.0400, -0.8556, -0.9505, -0.9850,  0.7531,  1.0006,\n",
            "         -1.1670,  1.0373, -0.9626,  1.0990, -0.4465,  0.2996,  0.7443,  0.9459,\n",
            "          0.4785,  0.4452,  0.5415, -1.7392,  1.1939, -2.2841, -0.3266, -1.0750,\n",
            "          0.4534,  1.0620,  1.0262, -0.5673,  1.1856,  0.9865,  0.6975, -3.3984,\n",
            "          1.0948, -0.7318,  0.4305,  0.9680, -1.5576, -0.0574,  1.1606,  0.5389,\n",
            "          1.1236, -0.8741,  0.5842,  0.7831,  1.0342, -1.2303, -0.7227,  0.9986,\n",
            "         -0.8842,  0.8190,  1.0839, -0.7243, -1.1313, -0.6874,  0.8396,  1.0835,\n",
            "          1.2144, -0.6581, -0.8616, -0.5830,  0.7086, -1.0737, -1.0422, -0.7827,\n",
            "          1.2052,  1.3598, -0.7127, -1.1944, -0.7681,  0.5713,  1.1906, -1.0788,\n",
            "          1.1211, -1.3008, -0.9023,  0.6892, -1.0595,  0.6941,  1.0841,  1.1099]],\n",
            "       dtype=torch.float64, requires_grad=True)\n"
          ]
        }
      ]
    },
    {
      "cell_type": "markdown",
      "source": [
        "It looks like the ElasticNet did a great job!"
      ],
      "metadata": {
        "id": "811mpeup2S52"
      }
    },
    {
      "cell_type": "markdown",
      "source": [
        "## Question 3\n",
        "\n",
        "Host your project in your GitHub space."
      ],
      "metadata": {
        "id": "Kfk2of-ks0iE"
      }
    },
    {
      "cell_type": "markdown",
      "source": [
        "https://willcameron2002.github.io/DATA441/"
      ],
      "metadata": {
        "id": "tiEs3kUS2jEz"
      }
    }
  ]
}